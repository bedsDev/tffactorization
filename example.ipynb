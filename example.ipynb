{
 "cells": [
  {
   "cell_type": "code",
   "execution_count": 1,
   "metadata": {
    "collapsed": true
   },
   "outputs": [],
   "source": [
    "%load_ext autoreload\n",
    "\n",
    "%autoreload 2"
   ]
  },
  {
   "cell_type": "code",
   "execution_count": 2,
   "metadata": {},
   "outputs": [
    {
     "name": "stdout",
     "output_type": "stream",
     "text": [
      "loading tfnmf\n"
     ]
    }
   ],
   "source": [
    "from __future__ import print_function\n",
    "import time\n",
    "import numpy as np\n",
    "import tensorflow as tf\n",
    "from tfnmf import TFNMF\n"
   ]
  },
  {
   "cell_type": "code",
   "execution_count": 3,
   "metadata": {},
   "outputs": [],
   "source": [
    "V = np.random.rand(10000,10000)\n",
    "V = np.random.rand(10000,10000)\n",
    "rank = 1000\n",
    "num_core = 8\n",
    "\n",
    "tfnmf = TFNMF(V, rank,'mu') #'grad')\n",
    "config = tf.ConfigProto(inter_op_parallelism_threads=num_core,\n",
    "                           intra_op_parallelism_threads=num_core)"
   ]
  },
  {
   "cell_type": "code",
   "execution_count": 4,
   "metadata": {},
   "outputs": [
    {
     "name": "stdout",
     "output_type": "stream",
     "text": [
      "Computational Time for TFNMF:  91.93074297904968\n",
      "Reconstruction Error for TFNMF:  9421924.98251\n",
      "[[  1.02764958e-11   1.61505496e-11   9.22869366e-14 ...,   1.62963230e-13\n",
      "    8.74285200e-10   2.90385944e-12]\n",
      " [  6.74137005e-12   7.54032514e-12   2.49758739e-15 ...,   2.23789398e-13\n",
      "    9.81669523e-10   3.10831829e-12]\n",
      " [  1.00481264e-11   9.45992156e-12   4.74197233e-14 ...,   5.74470582e-10\n",
      "    3.50021639e-12   2.08398308e-13]\n",
      " ..., \n",
      " [  8.73646815e-12   9.12195926e-12   8.74796936e-12 ...,   8.23474882e-12\n",
      "    1.37404194e-11   5.01505218e-12]\n",
      " [  8.88112153e-12   9.76613321e-12   9.19754637e-12 ...,   1.08526452e-11\n",
      "    2.51517175e-11   2.34308167e-12]\n",
      " [  8.81328604e-12   9.82269127e-12   8.76245083e-12 ...,   1.97695142e-11\n",
      "    1.88244576e-11   7.00061450e-12]]\n",
      "[[  1.31417471e+04   2.63002425e+06   9.23145020e+02 ...,   2.63256294e+09\n",
      "    6.15170720e+07   6.88817382e-01]\n",
      " [  1.92961699e+04   2.85405850e+09   9.07379812e+05 ...,   3.51058289e+10\n",
      "    2.58581893e+10   7.27560640e+08]\n",
      " [  1.81089462e+02   5.02306213e+02   7.74670480e+07 ...,   9.07574875e+05\n",
      "    2.17650790e+10   1.00543419e+02]\n",
      " ..., \n",
      " [  4.65999091e-37   2.95667887e-24   2.30634374e-36 ...,   1.37171180e-19\n",
      "    3.21754427e-22   2.69235423e-26]\n",
      " [  5.08913703e-21   4.67758032e-25   1.33899339e-16 ...,   9.46371664e-22\n",
      "    5.03333354e-19   6.69722467e-35]\n",
      " [  6.78920453e-22   1.32883728e-17   3.50772011e-24 ...,   1.14600704e-17\n",
      "    1.93404335e-32   0.00000000e+00]]\n"
     ]
    }
   ],
   "source": [
    "with tf.Session(config=config) as sess:\n",
    "    # with tf.Session(config=tf.ConfigProto(config=config)) as sess:\n",
    "    start = time.time()\n",
    "    W, H = tfnmf.run(sess)\n",
    "    print(\"Computational Time for TFNMF: \", time.time() - start)\n",
    "\n",
    "W = np.mat(W)\n",
    "H = np.mat(H)\n",
    "error = np.power(V - W * H, 2).sum()\n",
    "print(\"Reconstruction Error for TFNMF: \", error)\n",
    "print(W)\n",
    "print(H)\n"
   ]
  },
  {
   "cell_type": "code",
   "execution_count": 5,
   "metadata": {},
   "outputs": [
    {
     "data": {
      "text/plain": [
       "(10000, 10)"
      ]
     },
     "execution_count": 5,
     "metadata": {},
     "output_type": "execute_result"
    }
   ],
   "source": [
    "W.shape"
   ]
  },
  {
   "cell_type": "code",
   "execution_count": 5,
   "metadata": {},
   "outputs": [
    {
     "data": {
      "text/plain": [
       "numpy.matrixlib.defmatrix.matrix"
      ]
     },
     "execution_count": 5,
     "metadata": {},
     "output_type": "execute_result"
    }
   ],
   "source": [
    "type(W)"
   ]
  },
  {
   "cell_type": "code",
   "execution_count": 6,
   "metadata": {
    "collapsed": true
   },
   "outputs": [],
   "source": [
    "f = open('w_output.data','wb')\n",
    "W.tofile(\"f\")\n",
    "f.close()"
   ]
  },
  {
   "cell_type": "code",
   "execution_count": 7,
   "metadata": {
    "collapsed": true
   },
   "outputs": [],
   "source": [
    "w_darray = W.getA()"
   ]
  },
  {
   "cell_type": "code",
   "execution_count": 8,
   "metadata": {
    "collapsed": true
   },
   "outputs": [],
   "source": [
    "w_darray.dump(\"w_np.data\")"
   ]
  },
  {
   "cell_type": "code",
   "execution_count": null,
   "metadata": {
    "collapsed": true
   },
   "outputs": [],
   "source": []
  }
 ],
 "metadata": {
  "kernelspec": {
   "display_name": "Python 3",
   "language": "python",
   "name": "python3"
  },
  "language_info": {
   "codemirror_mode": {
    "name": "ipython",
    "version": 3
   },
   "file_extension": ".py",
   "mimetype": "text/x-python",
   "name": "python",
   "nbconvert_exporter": "python",
   "pygments_lexer": "ipython3",
   "version": "3.6.2"
  }
 },
 "nbformat": 4,
 "nbformat_minor": 2
}
